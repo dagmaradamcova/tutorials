{
 "cells": [
  {
   "cell_type": "markdown",
   "id": "4ecc9072",
   "metadata": {},
   "source": [
    "# NLP with Disaster Tweets\n",
    "\n",
    "Tutorial: https://www.kaggle.com/philculliton/nlp-getting-started-tutorial  \n",
    "Get the data here: https://www.kaggle.com/c/nlp-getting-started/data?select=train.csv"
   ]
  },
  {
   "cell_type": "code",
   "execution_count": 2,
   "id": "2e0cc42e",
   "metadata": {},
   "outputs": [],
   "source": [
    "import numpy as np\n",
    "import pandas as pd\n",
    "from sklearn import feature_extraction, linear_model, model_selection, preprocessing"
   ]
  },
  {
   "cell_type": "code",
   "execution_count": 3,
   "id": "61612e22",
   "metadata": {},
   "outputs": [],
   "source": [
    "# LOAD DATA\n",
    "\n",
    "train_df = pd.read_csv(\"data/train.csv\") \n",
    "test_df = pd.read_csv(\"data/test.csv\")"
   ]
  },
  {
   "cell_type": "code",
   "execution_count": 7,
   "id": "ca8deb4e",
   "metadata": {},
   "outputs": [
    {
     "data": {
      "text/plain": [
       "(7613, 5)"
      ]
     },
     "execution_count": 7,
     "metadata": {},
     "output_type": "execute_result"
    }
   ],
   "source": [
    "train_df.shape # 7613 tweets"
   ]
  },
  {
   "cell_type": "code",
   "execution_count": 6,
   "id": "418565d3",
   "metadata": {},
   "outputs": [
    {
     "data": {
      "text/html": [
       "<div>\n",
       "<style scoped>\n",
       "    .dataframe tbody tr th:only-of-type {\n",
       "        vertical-align: middle;\n",
       "    }\n",
       "\n",
       "    .dataframe tbody tr th {\n",
       "        vertical-align: top;\n",
       "    }\n",
       "\n",
       "    .dataframe thead th {\n",
       "        text-align: right;\n",
       "    }\n",
       "</style>\n",
       "<table border=\"1\" class=\"dataframe\">\n",
       "  <thead>\n",
       "    <tr style=\"text-align: right;\">\n",
       "      <th></th>\n",
       "      <th>id</th>\n",
       "      <th>keyword</th>\n",
       "      <th>location</th>\n",
       "      <th>text</th>\n",
       "      <th>target</th>\n",
       "    </tr>\n",
       "  </thead>\n",
       "  <tbody>\n",
       "    <tr>\n",
       "      <th>6112</th>\n",
       "      <td>8726</td>\n",
       "      <td>sinking</td>\n",
       "      <td>HOMRA.</td>\n",
       "      <td>In your eyes I see the hope\\nI once knew.\\nI'm...</td>\n",
       "      <td>0</td>\n",
       "    </tr>\n",
       "    <tr>\n",
       "      <th>4706</th>\n",
       "      <td>6690</td>\n",
       "      <td>landslide</td>\n",
       "      <td>NaN</td>\n",
       "      <td>@RonWyden Democrats restricted  Blacks from Vo...</td>\n",
       "      <td>0</td>\n",
       "    </tr>\n",
       "    <tr>\n",
       "      <th>6952</th>\n",
       "      <td>9974</td>\n",
       "      <td>tsunami</td>\n",
       "      <td>IG : Sincerely_TSUNAMI</td>\n",
       "      <td>It's my senior year I just wanna go all out</td>\n",
       "      <td>0</td>\n",
       "    </tr>\n",
       "    <tr>\n",
       "      <th>2699</th>\n",
       "      <td>3873</td>\n",
       "      <td>detonation</td>\n",
       "      <td>New York</td>\n",
       "      <td>2015 new fashion ladies gold watch waterproof ...</td>\n",
       "      <td>0</td>\n",
       "    </tr>\n",
       "    <tr>\n",
       "      <th>830</th>\n",
       "      <td>1207</td>\n",
       "      <td>blizzard</td>\n",
       "      <td>NaN</td>\n",
       "      <td>the best thing at DQ is the cotton candy blizz...</td>\n",
       "      <td>0</td>\n",
       "    </tr>\n",
       "  </tbody>\n",
       "</table>\n",
       "</div>"
      ],
      "text/plain": [
       "        id     keyword                location  \\\n",
       "6112  8726     sinking                  HOMRA.   \n",
       "4706  6690   landslide                     NaN   \n",
       "6952  9974     tsunami  IG : Sincerely_TSUNAMI   \n",
       "2699  3873  detonation                New York   \n",
       "830   1207    blizzard                     NaN   \n",
       "\n",
       "                                                   text  target  \n",
       "6112  In your eyes I see the hope\\nI once knew.\\nI'm...       0  \n",
       "4706  @RonWyden Democrats restricted  Blacks from Vo...       0  \n",
       "6952        It's my senior year I just wanna go all out       0  \n",
       "2699  2015 new fashion ladies gold watch waterproof ...       0  \n",
       "830   the best thing at DQ is the cotton candy blizz...       0  "
      ]
     },
     "execution_count": 6,
     "metadata": {},
     "output_type": "execute_result"
    }
   ],
   "source": [
    "train_df.sample(5) # sample tweets"
   ]
  },
  {
   "cell_type": "code",
   "execution_count": 28,
   "id": "2964dd9b",
   "metadata": {},
   "outputs": [
    {
     "data": {
      "text/plain": [
       "'13,000 people receive #wildfires evacuation orders in California '"
      ]
     },
     "execution_count": 28,
     "metadata": {},
     "output_type": "execute_result"
    }
   ],
   "source": [
    "train_df[train_df.target == 1][\"text\"].values[3] # example target tweet"
   ]
  },
  {
   "cell_type": "code",
   "execution_count": 27,
   "id": "097b8c48",
   "metadata": {},
   "outputs": [
    {
     "data": {
      "text/plain": [
       "'My car is so fast'"
      ]
     },
     "execution_count": 27,
     "metadata": {},
     "output_type": "execute_result"
    }
   ],
   "source": [
    "train_df[train_df.target == 0][\"text\"].values[3] # example non-target tweet"
   ]
  },
  {
   "cell_type": "markdown",
   "id": "0204728b",
   "metadata": {},
   "source": [
    "## Prep the data"
   ]
  },
  {
   "cell_type": "code",
   "execution_count": 29,
   "id": "61b6bd27",
   "metadata": {},
   "outputs": [],
   "source": [
    "count_vectorizer = feature_extraction.text.CountVectorizer() # converts text to a matrix of token counts, sparse"
   ]
  },
  {
   "cell_type": "code",
   "execution_count": 40,
   "id": "d7934449",
   "metadata": {},
   "outputs": [
    {
     "name": "stdout",
     "output_type": "stream",
     "text": [
      "(1, 54)\n",
      "[[0 0 1 0 0 0 1 0 0 0 0 0 0 0 0 0 0 0 0 2 1 0 1 1 0 0 0 0 0 0 0 0 0 0 0 0\n",
      "  1 0 1 0 0 0 0 1 0 1 1 0 1 0 1 0 0 1]]\n"
     ]
    }
   ],
   "source": [
    "example_train_vectors = count_vectorizer.fit_transform(train_df[\"text\"][0:5]) # convert the first 5 tweets\n",
    "\n",
    "# todense() converts sparse vectors into dense vectors\n",
    "\n",
    "print(example_train_vectors[4].todense().shape)  # we got 54 tokens from the first 5 tweets\n",
    "print(example_train_vectors[4].todense())"
   ]
  },
  {
   "cell_type": "code",
   "execution_count": 43,
   "id": "4f5642a3",
   "metadata": {},
   "outputs": [],
   "source": [
    "# Prepare the train and test vectors\n",
    "\n",
    "train_vectors = count_vectorizer.fit_transform(train_df[\"text\"])\n",
    "test_vectors = count_vectorizer.transform(test_df[\"text\"]) \n",
    "\n",
    "# for test set use transform() instead of fit_transform() so that the train and test use the same set of tokens"
   ]
  },
  {
   "cell_type": "markdown",
   "id": "850ee9ff",
   "metadata": {},
   "source": [
    "## Model"
   ]
  },
  {
   "cell_type": "code",
   "execution_count": 44,
   "id": "1cae250c",
   "metadata": {},
   "outputs": [],
   "source": [
    "# ridge regression\n",
    "\n",
    "clf = linear_model.RidgeClassifier()"
   ]
  },
  {
   "cell_type": "code",
   "execution_count": 45,
   "id": "5f854e7c",
   "metadata": {},
   "outputs": [
    {
     "data": {
      "text/plain": [
       "array([0.59421842, 0.56498283, 0.64113893])"
      ]
     },
     "execution_count": 45,
     "metadata": {},
     "output_type": "execute_result"
    }
   ],
   "source": [
    "# train the model using cross validation, and check the scores (F1 metric)\n",
    "\n",
    "scores = model_selection.cross_val_score(clf, train_vectors, train_df[\"target\"], cv=3, scoring=\"f1\")\n",
    "scores"
   ]
  },
  {
   "cell_type": "code",
   "execution_count": 46,
   "id": "836e3226",
   "metadata": {},
   "outputs": [
    {
     "data": {
      "text/plain": [
       "RidgeClassifier()"
      ]
     },
     "execution_count": 46,
     "metadata": {},
     "output_type": "execute_result"
    }
   ],
   "source": [
    "clf.fit(train_vectors, train_df[\"target\"]) # fit"
   ]
  },
  {
   "cell_type": "code",
   "execution_count": 47,
   "id": "c4f40c95",
   "metadata": {},
   "outputs": [],
   "source": [
    "# LOAD the sample submission csv\n",
    "\n",
    "sample_submission = pd.read_csv(\"data/sample_submission.csv\")"
   ]
  },
  {
   "cell_type": "code",
   "execution_count": 49,
   "id": "68e3ebf1",
   "metadata": {},
   "outputs": [],
   "source": [
    "sample_submission[\"target\"] = clf.predict(test_vectors) # generate predictions on test set"
   ]
  },
  {
   "cell_type": "code",
   "execution_count": 50,
   "id": "20dce1e6",
   "metadata": {},
   "outputs": [
    {
     "data": {
      "text/html": [
       "<div>\n",
       "<style scoped>\n",
       "    .dataframe tbody tr th:only-of-type {\n",
       "        vertical-align: middle;\n",
       "    }\n",
       "\n",
       "    .dataframe tbody tr th {\n",
       "        vertical-align: top;\n",
       "    }\n",
       "\n",
       "    .dataframe thead th {\n",
       "        text-align: right;\n",
       "    }\n",
       "</style>\n",
       "<table border=\"1\" class=\"dataframe\">\n",
       "  <thead>\n",
       "    <tr style=\"text-align: right;\">\n",
       "      <th></th>\n",
       "      <th>id</th>\n",
       "      <th>target</th>\n",
       "    </tr>\n",
       "  </thead>\n",
       "  <tbody>\n",
       "    <tr>\n",
       "      <th>0</th>\n",
       "      <td>0</td>\n",
       "      <td>0</td>\n",
       "    </tr>\n",
       "    <tr>\n",
       "      <th>1</th>\n",
       "      <td>2</td>\n",
       "      <td>1</td>\n",
       "    </tr>\n",
       "    <tr>\n",
       "      <th>2</th>\n",
       "      <td>3</td>\n",
       "      <td>1</td>\n",
       "    </tr>\n",
       "    <tr>\n",
       "      <th>3</th>\n",
       "      <td>9</td>\n",
       "      <td>0</td>\n",
       "    </tr>\n",
       "    <tr>\n",
       "      <th>4</th>\n",
       "      <td>11</td>\n",
       "      <td>1</td>\n",
       "    </tr>\n",
       "  </tbody>\n",
       "</table>\n",
       "</div>"
      ],
      "text/plain": [
       "   id  target\n",
       "0   0       0\n",
       "1   2       1\n",
       "2   3       1\n",
       "3   9       0\n",
       "4  11       1"
      ]
     },
     "execution_count": 50,
     "metadata": {},
     "output_type": "execute_result"
    }
   ],
   "source": [
    "sample_submission.head()"
   ]
  },
  {
   "cell_type": "code",
   "execution_count": 51,
   "id": "72c7499b",
   "metadata": {},
   "outputs": [],
   "source": [
    "sample_submission.to_csv(\"submission.csv\", index=False) # save submission to csv"
   ]
  },
  {
   "cell_type": "code",
   "execution_count": null,
   "id": "9ba85fa2",
   "metadata": {},
   "outputs": [],
   "source": []
  }
 ],
 "metadata": {
  "kernelspec": {
   "display_name": "Python 3",
   "language": "python",
   "name": "python3"
  },
  "language_info": {
   "codemirror_mode": {
    "name": "ipython",
    "version": 3
   },
   "file_extension": ".py",
   "mimetype": "text/x-python",
   "name": "python",
   "nbconvert_exporter": "python",
   "pygments_lexer": "ipython3",
   "version": "3.9.4"
  }
 },
 "nbformat": 4,
 "nbformat_minor": 5
}
