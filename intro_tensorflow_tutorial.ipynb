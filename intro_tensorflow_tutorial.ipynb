{
 "cells": [
  {
   "cell_type": "markdown",
   "id": "9929ddc2",
   "metadata": {},
   "source": [
    "# Intro TensorFlow Tutorial\n",
    "\n",
    "Link: https://developers.google.com/learn/pathways/tensorflow?hl=en#codelab-https://developers.google.com/codelabs/tensorflow-1-helloworld"
   ]
  },
  {
   "cell_type": "code",
   "execution_count": 5,
   "id": "6adaa793",
   "metadata": {},
   "outputs": [],
   "source": [
    "import tensorflow as tf\n",
    "import numpy as np\n",
    "from tensorflow import keras"
   ]
  },
  {
   "cell_type": "code",
   "execution_count": 2,
   "id": "8e617b15",
   "metadata": {},
   "outputs": [],
   "source": [
    "# create a simple NN with 1 layer, 1 neuron, input shape of 1 value\n",
    "\n",
    "model = tf.keras.Sequential([keras.layers.Dense(units=1, input_shape=[1])])"
   ]
  },
  {
   "cell_type": "code",
   "execution_count": 3,
   "id": "9cacd421",
   "metadata": {},
   "outputs": [],
   "source": [
    "# compile with mean squared error as loss, and stochastic gradient descent as optimizer\n",
    "\n",
    "model.compile(optimizer='sgd', loss='mean_squared_error')"
   ]
  },
  {
   "cell_type": "code",
   "execution_count": 6,
   "id": "99a04ee4",
   "metadata": {},
   "outputs": [],
   "source": [
    "# DATA\n",
    "# y = 3x + 1\n",
    "\n",
    "xs = np.array([-1.0, 0.0, 1.0, 2.0, 3.0, 4.0], dtype=float)\n",
    "ys = np.array([-2.0, 1.0, 4.0, 7.0, 10.0, 13.0], dtype=float)"
   ]
  },
  {
   "cell_type": "code",
   "execution_count": 7,
   "id": "2e35a865",
   "metadata": {
    "scrolled": true
   },
   "outputs": [
    {
     "name": "stdout",
     "output_type": "stream",
     "text": [
      "Epoch 1/50\n",
      "1/1 [==============================] - 0s 330ms/step - loss: 31.8186\n",
      "Epoch 2/50\n",
      "1/1 [==============================] - 0s 8ms/step - loss: 25.0415\n",
      "Epoch 3/50\n",
      "1/1 [==============================] - 0s 10ms/step - loss: 19.7094\n",
      "Epoch 4/50\n",
      "1/1 [==============================] - 0s 11ms/step - loss: 15.5142\n",
      "Epoch 5/50\n",
      "1/1 [==============================] - 0s 8ms/step - loss: 12.2135\n",
      "Epoch 6/50\n",
      "1/1 [==============================] - 0s 12ms/step - loss: 9.6164\n",
      "Epoch 7/50\n",
      "1/1 [==============================] - 0s 8ms/step - loss: 7.5731\n",
      "Epoch 8/50\n",
      "1/1 [==============================] - 0s 12ms/step - loss: 5.9653\n",
      "Epoch 9/50\n",
      "1/1 [==============================] - 0s 11ms/step - loss: 4.7002\n",
      "Epoch 10/50\n",
      "1/1 [==============================] - 0s 8ms/step - loss: 3.7048\n",
      "Epoch 11/50\n",
      "1/1 [==============================] - 0s 8ms/step - loss: 2.9215\n",
      "Epoch 12/50\n",
      "1/1 [==============================] - 0s 16ms/step - loss: 2.3051\n",
      "Epoch 13/50\n",
      "1/1 [==============================] - 0s 9ms/step - loss: 1.8200\n",
      "Epoch 14/50\n",
      "1/1 [==============================] - 0s 9ms/step - loss: 1.4382\n",
      "Epoch 15/50\n",
      "1/1 [==============================] - 0s 9ms/step - loss: 1.1377\n",
      "Epoch 16/50\n",
      "1/1 [==============================] - 0s 9ms/step - loss: 0.9012\n",
      "Epoch 17/50\n",
      "1/1 [==============================] - 0s 10ms/step - loss: 0.7150\n",
      "Epoch 18/50\n",
      "1/1 [==============================] - 0s 9ms/step - loss: 0.5683\n",
      "Epoch 19/50\n",
      "1/1 [==============================] - 0s 8ms/step - loss: 0.4528\n",
      "Epoch 20/50\n",
      "1/1 [==============================] - 0s 13ms/step - loss: 0.3619\n",
      "Epoch 21/50\n",
      "1/1 [==============================] - 0s 30ms/step - loss: 0.2902\n",
      "Epoch 22/50\n",
      "1/1 [==============================] - 0s 9ms/step - loss: 0.2337\n",
      "Epoch 23/50\n",
      "1/1 [==============================] - 0s 21ms/step - loss: 0.1891\n",
      "Epoch 24/50\n",
      "1/1 [==============================] - 0s 8ms/step - loss: 0.1539\n",
      "Epoch 25/50\n",
      "1/1 [==============================] - 0s 12ms/step - loss: 0.1261\n",
      "Epoch 26/50\n",
      "1/1 [==============================] - 0s 11ms/step - loss: 0.1042\n",
      "Epoch 27/50\n",
      "1/1 [==============================] - 0s 11ms/step - loss: 0.0868\n",
      "Epoch 28/50\n",
      "1/1 [==============================] - 0s 18ms/step - loss: 0.0730\n",
      "Epoch 29/50\n",
      "1/1 [==============================] - 0s 13ms/step - loss: 0.0621\n",
      "Epoch 30/50\n",
      "1/1 [==============================] - 0s 15ms/step - loss: 0.0534\n",
      "Epoch 31/50\n",
      "1/1 [==============================] - 0s 14ms/step - loss: 0.0465\n",
      "Epoch 32/50\n",
      "1/1 [==============================] - 0s 18ms/step - loss: 0.0409\n",
      "Epoch 33/50\n",
      "1/1 [==============================] - 0s 13ms/step - loss: 0.0365\n",
      "Epoch 34/50\n",
      "1/1 [==============================] - 0s 9ms/step - loss: 0.0329\n",
      "Epoch 35/50\n",
      "1/1 [==============================] - 0s 13ms/step - loss: 0.0300\n",
      "Epoch 36/50\n",
      "1/1 [==============================] - 0s 39ms/step - loss: 0.0276\n",
      "Epoch 37/50\n",
      "1/1 [==============================] - 0s 20ms/step - loss: 0.0256\n",
      "Epoch 38/50\n",
      "1/1 [==============================] - 0s 34ms/step - loss: 0.0240\n",
      "Epoch 39/50\n",
      "1/1 [==============================] - 0s 6ms/step - loss: 0.0227\n",
      "Epoch 40/50\n",
      "1/1 [==============================] - 0s 6ms/step - loss: 0.0215\n",
      "Epoch 41/50\n",
      "1/1 [==============================] - 0s 6ms/step - loss: 0.0206\n",
      "Epoch 42/50\n",
      "1/1 [==============================] - 0s 6ms/step - loss: 0.0197\n",
      "Epoch 43/50\n",
      "1/1 [==============================] - 0s 6ms/step - loss: 0.0190\n",
      "Epoch 44/50\n",
      "1/1 [==============================] - 0s 7ms/step - loss: 0.0183\n",
      "Epoch 45/50\n",
      "1/1 [==============================] - 0s 5ms/step - loss: 0.0178\n",
      "Epoch 46/50\n",
      "1/1 [==============================] - 0s 8ms/step - loss: 0.0172\n",
      "Epoch 47/50\n",
      "1/1 [==============================] - 0s 6ms/step - loss: 0.0167\n",
      "Epoch 48/50\n",
      "1/1 [==============================] - 0s 4ms/step - loss: 0.0163\n",
      "Epoch 49/50\n",
      "1/1 [==============================] - 0s 6ms/step - loss: 0.0159\n",
      "Epoch 50/50\n",
      "1/1 [==============================] - 0s 6ms/step - loss: 0.0155\n"
     ]
    },
    {
     "data": {
      "text/plain": [
       "<tensorflow.python.keras.callbacks.History at 0x7fcea89ae1c0>"
      ]
     },
     "execution_count": 7,
     "metadata": {},
     "output_type": "execute_result"
    }
   ],
   "source": [
    "# TRAIN THE NN\n",
    "\n",
    "model.fit(xs, ys, epochs=50)"
   ]
  },
  {
   "cell_type": "code",
   "execution_count": 8,
   "id": "8b327a36",
   "metadata": {},
   "outputs": [
    {
     "name": "stdout",
     "output_type": "stream",
     "text": [
      "[[31.302359]]\n"
     ]
    }
   ],
   "source": [
    "# PREDICT\n",
    "\n",
    "print(model.predict([10.0]))"
   ]
  },
  {
   "cell_type": "code",
   "execution_count": null,
   "id": "b690d0ef",
   "metadata": {},
   "outputs": [],
   "source": [
    "# correct answer would be 31 but this is pretty close!"
   ]
  }
 ],
 "metadata": {
  "kernelspec": {
   "display_name": "Python 3",
   "language": "python",
   "name": "python3"
  },
  "language_info": {
   "codemirror_mode": {
    "name": "ipython",
    "version": 3
   },
   "file_extension": ".py",
   "mimetype": "text/x-python",
   "name": "python",
   "nbconvert_exporter": "python",
   "pygments_lexer": "ipython3",
   "version": "3.9.4"
  }
 },
 "nbformat": 4,
 "nbformat_minor": 5
}
